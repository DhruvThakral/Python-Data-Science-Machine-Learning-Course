{
  "nbformat": 4,
  "nbformat_minor": 0,
  "metadata": {
    "colab": {
      "provenance": [],
      "authorship_tag": "ABX9TyOInH6yKPL5Rbe0B0ax7aox",
      "include_colab_link": true
    },
    "kernelspec": {
      "name": "python3",
      "display_name": "Python 3"
    },
    "language_info": {
      "name": "python"
    }
  },
  "cells": [
    {
      "cell_type": "markdown",
      "metadata": {
        "id": "view-in-github",
        "colab_type": "text"
      },
      "source": [
        "<a href=\"https://colab.research.google.com/github/DhruvThakral/Python-Data-Science-Machine-Learning-Course/blob/main/Python_fundamentals.ipynb\" target=\"_parent\"><img src=\"https://colab.research.google.com/assets/colab-badge.svg\" alt=\"Open In Colab\"/></a>"
      ]
    },
    {
      "cell_type": "markdown",
      "source": [
        "Variables"
      ],
      "metadata": {
        "id": "HgTYrZHSz2Ru"
      }
    },
    {
      "cell_type": "code",
      "execution_count": 9,
      "metadata": {
        "id": "NjfWiNTKzr61"
      },
      "outputs": [],
      "source": [
        "#Assigning  values to the variables\n",
        "name = \"John Doe\"\n",
        "age = 30\n",
        "height = 5.9"
      ]
    },
    {
      "cell_type": "markdown",
      "source": [
        "Data Types\n"
      ],
      "metadata": {
        "id": "zTu5mfN00VW5"
      }
    },
    {
      "cell_type": "code",
      "source": [
        "#Integer\n",
        "num = 10\n",
        "\n",
        "#Inbuilt functions and operations for Integers:\n",
        "print(abs(num)) #Absolute value"
      ],
      "metadata": {
        "colab": {
          "base_uri": "https://localhost:8080/"
        },
        "id": "GmIAkkG50Uih",
        "outputId": "088a2601-4f04-4d32-915b-edce9dd4fb8a"
      },
      "execution_count": 10,
      "outputs": [
        {
          "output_type": "stream",
          "name": "stdout",
          "text": [
            "10\n"
          ]
        }
      ]
    },
    {
      "cell_type": "code",
      "source": [
        "print(bin(num)) #Binary representation"
      ],
      "metadata": {
        "colab": {
          "base_uri": "https://localhost:8080/"
        },
        "id": "MLMZIXSe3pSB",
        "outputId": "37a82856-e25d-42c6-fc70-b5dd72b33672"
      },
      "execution_count": 11,
      "outputs": [
        {
          "output_type": "stream",
          "name": "stdout",
          "text": [
            "0b1010\n"
          ]
        }
      ]
    },
    {
      "cell_type": "code",
      "source": [
        "print(hex(num)) #Hexadecimal representation"
      ],
      "metadata": {
        "colab": {
          "base_uri": "https://localhost:8080/"
        },
        "id": "JecIr11o3sLn",
        "outputId": "38af231b-e664-4310-b31a-4950f07181f9"
      },
      "execution_count": 12,
      "outputs": [
        {
          "output_type": "stream",
          "name": "stdout",
          "text": [
            "0xa\n"
          ]
        }
      ]
    },
    {
      "cell_type": "code",
      "source": [
        "print(pow(num,2)) #Power Function (num^2)"
      ],
      "metadata": {
        "colab": {
          "base_uri": "https://localhost:8080/"
        },
        "id": "CsYNOb4K3uJ8",
        "outputId": "cb9d7379-c3b7-4cc1-97f9-57417a7ddd3a"
      },
      "execution_count": 13,
      "outputs": [
        {
          "output_type": "stream",
          "name": "stdout",
          "text": [
            "100\n"
          ]
        }
      ]
    },
    {
      "cell_type": "code",
      "source": [
        "print(divmod(num,3))   #Quotient and Remainder"
      ],
      "metadata": {
        "colab": {
          "base_uri": "https://localhost:8080/"
        },
        "id": "ZRV0pQ3K37Nr",
        "outputId": "b4ecda0e-f7fc-4559-d498-7ce945fbc73d"
      },
      "execution_count": 14,
      "outputs": [
        {
          "output_type": "stream",
          "name": "stdout",
          "text": [
            "(3, 1)\n"
          ]
        }
      ]
    },
    {
      "cell_type": "code",
      "source": [
        "#Float\n",
        "price = 99.99\n",
        "\n",
        "#Inbuilt functions and operations for Floats:\n",
        "print(round(price)) #Rounding"
      ],
      "metadata": {
        "colab": {
          "base_uri": "https://localhost:8080/"
        },
        "id": "UJSEXBUm4EuH",
        "outputId": "879b79ef-8c1d-4bfc-ff8c-4d0c0ff4e344"
      },
      "execution_count": 15,
      "outputs": [
        {
          "output_type": "stream",
          "name": "stdout",
          "text": [
            "100\n"
          ]
        }
      ]
    },
    {
      "cell_type": "code",
      "source": [
        "print(abs(price))   #absolute value"
      ],
      "metadata": {
        "colab": {
          "base_uri": "https://localhost:8080/"
        },
        "id": "dDqXT4eK5hyD",
        "outputId": "13285575-5b27-4f30-f0ea-08a873dceef8"
      },
      "execution_count": 16,
      "outputs": [
        {
          "output_type": "stream",
          "name": "stdout",
          "text": [
            "99.99\n"
          ]
        }
      ]
    },
    {
      "cell_type": "code",
      "source": [
        "print(int(price))   #convert to integer"
      ],
      "metadata": {
        "colab": {
          "base_uri": "https://localhost:8080/"
        },
        "id": "-N62jErA5vpY",
        "outputId": "5fdc60f1-b5cb-4ba3-ec71-8d5cbe33424a"
      },
      "execution_count": 17,
      "outputs": [
        {
          "output_type": "stream",
          "name": "stdout",
          "text": [
            "99\n"
          ]
        }
      ]
    },
    {
      "cell_type": "code",
      "source": [
        "print(float(\"123.45\"))  #convert string to float"
      ],
      "metadata": {
        "colab": {
          "base_uri": "https://localhost:8080/"
        },
        "id": "uo3txaZ553Fp",
        "outputId": "212f98f3-0f1d-45fb-a340-04604795f343"
      },
      "execution_count": 18,
      "outputs": [
        {
          "output_type": "stream",
          "name": "stdout",
          "text": [
            "123.45\n"
          ]
        }
      ]
    },
    {
      "cell_type": "code",
      "source": [
        "print(price.is_integer()) #check if float is an integer"
      ],
      "metadata": {
        "colab": {
          "base_uri": "https://localhost:8080/"
        },
        "id": "WhwhFO_06A2p",
        "outputId": "3da41038-4beb-42a3-da55-4db57bae18a5"
      },
      "execution_count": 19,
      "outputs": [
        {
          "output_type": "stream",
          "name": "stdout",
          "text": [
            "False\n"
          ]
        }
      ]
    },
    {
      "cell_type": "code",
      "source": [
        "#String\n",
        "greeting = \"Hello, World!\"\n",
        "\n",
        "#Inbuilt functions and operations for String:\n",
        "\n",
        "print(greeting.lower()) #convert to lowercase"
      ],
      "metadata": {
        "colab": {
          "base_uri": "https://localhost:8080/"
        },
        "id": "5QGv8fw_6JBz",
        "outputId": "04631739-d9c3-4304-c7ce-f91d7a0388a6"
      },
      "execution_count": 20,
      "outputs": [
        {
          "output_type": "stream",
          "name": "stdout",
          "text": [
            "hello, world!\n"
          ]
        }
      ]
    },
    {
      "cell_type": "code",
      "source": [
        "print(greeting.upper()) #convert to uppercase"
      ],
      "metadata": {
        "colab": {
          "base_uri": "https://localhost:8080/"
        },
        "id": "jjo8302K6in9",
        "outputId": "542a8929-7df5-4d7d-a4e5-0fea3cf0cee7"
      },
      "execution_count": 21,
      "outputs": [
        {
          "output_type": "stream",
          "name": "stdout",
          "text": [
            "HELLO, WORLD!\n"
          ]
        }
      ]
    },
    {
      "cell_type": "code",
      "source": [
        "print(greeting.replace(\"World\",\"Universe\")) #replace substring"
      ],
      "metadata": {
        "colab": {
          "base_uri": "https://localhost:8080/"
        },
        "id": "Vu0NvJFI6mH2",
        "outputId": "0444bd8c-ebc9-4360-bc6b-0f2d898ceaf2"
      },
      "execution_count": 22,
      "outputs": [
        {
          "output_type": "stream",
          "name": "stdout",
          "text": [
            "Hello, Universe!\n"
          ]
        }
      ]
    },
    {
      "cell_type": "code",
      "source": [
        "print(greeting.split(\",\")) #split string into a list"
      ],
      "metadata": {
        "colab": {
          "base_uri": "https://localhost:8080/"
        },
        "id": "ulhd-flp6sj_",
        "outputId": "9b77170d-9bc5-4868-d1a4-c1a38688d843"
      },
      "execution_count": 23,
      "outputs": [
        {
          "output_type": "stream",
          "name": "stdout",
          "text": [
            "['Hello', ' World!']\n"
          ]
        }
      ]
    },
    {
      "cell_type": "code",
      "source": [
        "print(greeting.find(\"World\")) #find substring"
      ],
      "metadata": {
        "colab": {
          "base_uri": "https://localhost:8080/"
        },
        "id": "ripi9kEs6zHj",
        "outputId": "da238411-dcee-4f0f-b3ed-34ed03d77404"
      },
      "execution_count": 24,
      "outputs": [
        {
          "output_type": "stream",
          "name": "stdout",
          "text": [
            "7\n"
          ]
        }
      ]
    },
    {
      "cell_type": "code",
      "source": [
        "print(len(greeting)) #length of string"
      ],
      "metadata": {
        "colab": {
          "base_uri": "https://localhost:8080/"
        },
        "id": "FWSAY7rK63Yx",
        "outputId": "8e78d989-6f20-4c60-ebfb-40fb555f8fb0"
      },
      "execution_count": 25,
      "outputs": [
        {
          "output_type": "stream",
          "name": "stdout",
          "text": [
            "13\n"
          ]
        }
      ]
    },
    {
      "cell_type": "code",
      "source": [
        "#List\n",
        "fruits = [\"apple\", \"banana\", \"cherry\"]\n",
        "\n",
        "#Inbuilt functions and operations for List:\n",
        "print(fruits.append(\"orange\")) #add element to the end of the list"
      ],
      "metadata": {
        "colab": {
          "base_uri": "https://localhost:8080/"
        },
        "id": "5vw4yv22677t",
        "outputId": "4ed875e8-1482-4378-d108-4179b02ae1f6"
      },
      "execution_count": 26,
      "outputs": [
        {
          "output_type": "stream",
          "name": "stdout",
          "text": [
            "None\n"
          ]
        }
      ]
    },
    {
      "cell_type": "code",
      "source": [
        "print(fruits)"
      ],
      "metadata": {
        "colab": {
          "base_uri": "https://localhost:8080/"
        },
        "id": "vyWfhr547mnb",
        "outputId": "49481c0e-8d02-440f-8b47-cd0a6fc64061"
      },
      "execution_count": 27,
      "outputs": [
        {
          "output_type": "stream",
          "name": "stdout",
          "text": [
            "['apple', 'banana', 'cherry', 'orange']\n"
          ]
        }
      ]
    },
    {
      "cell_type": "code",
      "source": [
        "fruits.extend([\"mango\", \"kiwi\"]) #add multiple elements to the end of the list"
      ],
      "metadata": {
        "id": "TXwbT1BR7U2y"
      },
      "execution_count": 28,
      "outputs": []
    },
    {
      "cell_type": "code",
      "source": [
        "print(fruits)"
      ],
      "metadata": {
        "colab": {
          "base_uri": "https://localhost:8080/"
        },
        "id": "NN84TyNs7rHm",
        "outputId": "3279abb3-d840-4f5a-99ca-3e4bd3398642"
      },
      "execution_count": 29,
      "outputs": [
        {
          "output_type": "stream",
          "name": "stdout",
          "text": [
            "['apple', 'banana', 'cherry', 'orange', 'mango', 'kiwi']\n"
          ]
        }
      ]
    },
    {
      "cell_type": "code",
      "source": [
        "fruits.remove(\"banana\") #remove element from the list"
      ],
      "metadata": {
        "id": "1GALKx6O7cAW"
      },
      "execution_count": 30,
      "outputs": []
    },
    {
      "cell_type": "code",
      "source": [
        "print(fruits)"
      ],
      "metadata": {
        "colab": {
          "base_uri": "https://localhost:8080/"
        },
        "id": "PqTviPoI7taK",
        "outputId": "7b9d68aa-fb04-45a7-d6d8-723f37f5732f"
      },
      "execution_count": 31,
      "outputs": [
        {
          "output_type": "stream",
          "name": "stdout",
          "text": [
            "['apple', 'cherry', 'orange', 'mango', 'kiwi']\n"
          ]
        }
      ]
    },
    {
      "cell_type": "code",
      "source": [
        "fruits.pop() #remove last element"
      ],
      "metadata": {
        "colab": {
          "base_uri": "https://localhost:8080/",
          "height": 35
        },
        "id": "CJb0Xbx17ija",
        "outputId": "5d614f7a-1ec9-46a0-913e-c18421919a1e"
      },
      "execution_count": 32,
      "outputs": [
        {
          "output_type": "execute_result",
          "data": {
            "text/plain": [
              "'kiwi'"
            ],
            "application/vnd.google.colaboratory.intrinsic+json": {
              "type": "string"
            }
          },
          "metadata": {},
          "execution_count": 32
        }
      ]
    },
    {
      "cell_type": "code",
      "source": [
        "print(fruits)"
      ],
      "metadata": {
        "colab": {
          "base_uri": "https://localhost:8080/"
        },
        "id": "oscYPQlV74_o",
        "outputId": "498f78f5-2d36-41d1-fadb-0e631482dcb0"
      },
      "execution_count": 33,
      "outputs": [
        {
          "output_type": "stream",
          "name": "stdout",
          "text": [
            "['apple', 'cherry', 'orange', 'mango']\n"
          ]
        }
      ]
    },
    {
      "cell_type": "code",
      "source": [
        "fruits.sort()   #sort the list"
      ],
      "metadata": {
        "id": "G4WnzCfX8Bvh"
      },
      "execution_count": 34,
      "outputs": []
    },
    {
      "cell_type": "code",
      "source": [
        "print(fruits)"
      ],
      "metadata": {
        "colab": {
          "base_uri": "https://localhost:8080/"
        },
        "id": "Pcat3qOX8Mlv",
        "outputId": "9e10945d-04c3-4d61-eea8-16cc0830eb53"
      },
      "execution_count": 35,
      "outputs": [
        {
          "metadata": {
            "tags": null
          },
          "name": "stdout",
          "output_type": "stream",
          "text": [
            "['apple', 'cherry', 'mango', 'orange']\n"
          ]
        }
      ]
    },
    {
      "cell_type": "code",
      "source": [
        "print(len(fruits))    #length of the list"
      ],
      "metadata": {
        "id": "u04l-z_Z8O9E"
      },
      "execution_count": null,
      "outputs": []
    },
    {
      "cell_type": "code",
      "source": [
        "print(fruits.index(\"cherry\"))   #finding index"
      ],
      "metadata": {
        "id": "6m_oAvwX8oii"
      },
      "execution_count": null,
      "outputs": []
    },
    {
      "cell_type": "code",
      "source": [
        "print(\"apple\" in fruits)  #checking if element is in the list"
      ],
      "metadata": {
        "id": "QRPWSE9c87tS"
      },
      "execution_count": null,
      "outputs": []
    },
    {
      "cell_type": "code",
      "source": [
        "#Tuple\n",
        "coordinates = (10.0, 20.0)\n",
        "#Inbuilt functions and operations for Tuple:\n",
        "print(coordinates[0]) #access element by index"
      ],
      "metadata": {
        "id": "nkqB0_-T9AYH"
      },
      "execution_count": null,
      "outputs": []
    },
    {
      "cell_type": "code",
      "source": [
        "print(coordinates.count(10.0)) #count occurrences of an element"
      ],
      "metadata": {
        "id": "UahBknaI9bM3"
      },
      "execution_count": null,
      "outputs": []
    },
    {
      "cell_type": "code",
      "source": [
        "print(coordinates.index(20.0)) #find index of an element"
      ],
      "metadata": {
        "id": "IOlWK2MD9mwM"
      },
      "execution_count": null,
      "outputs": []
    },
    {
      "cell_type": "code",
      "source": [
        "print(len(coordinates)) #Length of a tuple"
      ],
      "metadata": {
        "id": "6D-BHpiL9pw8"
      },
      "execution_count": null,
      "outputs": []
    },
    {
      "cell_type": "code",
      "source": [
        "li = list(coordinates) #convert tuple to list\n",
        "li"
      ],
      "metadata": {
        "colab": {
          "base_uri": "https://localhost:8080/",
          "height": 158
        },
        "id": "bR8V58k--MPw",
        "outputId": "c20bcfc9-f204-45f3-9add-5949b648deb0"
      },
      "execution_count": 36,
      "outputs": [
        {
          "output_type": "error",
          "ename": "NameError",
          "evalue": "name 'coordinates' is not defined",
          "traceback": [
            "\u001b[0;31m---------------------------------------------------------------------------\u001b[0m",
            "\u001b[0;31mNameError\u001b[0m                                 Traceback (most recent call last)",
            "\u001b[0;32m<ipython-input-36-491672b46eb8>\u001b[0m in \u001b[0;36m<cell line: 1>\u001b[0;34m()\u001b[0m\n\u001b[0;32m----> 1\u001b[0;31m \u001b[0mli\u001b[0m \u001b[0;34m=\u001b[0m \u001b[0mlist\u001b[0m\u001b[0;34m(\u001b[0m\u001b[0mcoordinates\u001b[0m\u001b[0;34m)\u001b[0m \u001b[0;31m#convert tuple to list\u001b[0m\u001b[0;34m\u001b[0m\u001b[0;34m\u001b[0m\u001b[0m\n\u001b[0m\u001b[1;32m      2\u001b[0m \u001b[0mli\u001b[0m\u001b[0;34m\u001b[0m\u001b[0;34m\u001b[0m\u001b[0m\n",
            "\u001b[0;31mNameError\u001b[0m: name 'coordinates' is not defined"
          ]
        }
      ]
    },
    {
      "cell_type": "code",
      "source": [
        "li[1] = \"hi\""
      ],
      "metadata": {
        "id": "zgZiFkHe-aLI"
      },
      "execution_count": null,
      "outputs": []
    },
    {
      "cell_type": "code",
      "source": [
        "li"
      ],
      "metadata": {
        "id": "f8i6wcww-kpQ"
      },
      "execution_count": null,
      "outputs": []
    },
    {
      "cell_type": "code",
      "source": [
        "coordinates = tuple(li)\n",
        "coordinates"
      ],
      "metadata": {
        "id": "jitagXhl-l31"
      },
      "execution_count": null,
      "outputs": []
    },
    {
      "cell_type": "code",
      "source": [
        "# Dictionary\n",
        "person = {\"name\": \"John\", \"age\": 30}\n",
        "\n",
        "#Inbuilt functions and operations for Dictionary:\n",
        "print(person.keys())  #Get all keys"
      ],
      "metadata": {
        "id": "C-BBCvA4-4YB"
      },
      "execution_count": null,
      "outputs": []
    },
    {
      "cell_type": "code",
      "source": [
        "print(person.values()) #Get all values"
      ],
      "metadata": {
        "id": "3EL_qpzO_S5M"
      },
      "execution_count": null,
      "outputs": []
    },
    {
      "cell_type": "code",
      "source": [
        "print(person.items()) #Get all key-value pairs"
      ],
      "metadata": {
        "id": "VKYU0fei_X_c"
      },
      "execution_count": null,
      "outputs": []
    },
    {
      "cell_type": "code",
      "source": [
        "print(person.get(\"name\")) #Get value for a key"
      ],
      "metadata": {
        "id": "1xrtnjkB_dmV"
      },
      "execution_count": null,
      "outputs": []
    },
    {
      "cell_type": "code",
      "source": [
        "person.update({\"height\": 180})  #Update dictionary with another dictionary\n",
        "person"
      ],
      "metadata": {
        "id": "GJzknnnW_i_s"
      },
      "execution_count": null,
      "outputs": []
    },
    {
      "cell_type": "code",
      "source": [
        "person.pop(\"age\") #Remove key-value pair\n",
        "person"
      ],
      "metadata": {
        "id": "YHZdT7Yn_5m6"
      },
      "execution_count": null,
      "outputs": []
    },
    {
      "cell_type": "code",
      "source": [
        "print(len(person))"
      ],
      "metadata": {
        "id": "IntyYKrXAALq"
      },
      "execution_count": null,
      "outputs": []
    },
    {
      "cell_type": "code",
      "source": [
        "#set\n",
        "se={1,2,3,4}"
      ],
      "metadata": {
        "id": "ITqifnqpAMm9"
      },
      "execution_count": null,
      "outputs": []
    },
    {
      "cell_type": "code",
      "source": [
        "#not allow duplicates\n",
        "se={1,1,1,1,1}\n",
        "se"
      ],
      "metadata": {
        "id": "Qvc0Z4kZAR6S"
      },
      "execution_count": null,
      "outputs": []
    },
    {
      "cell_type": "code",
      "source": [
        "#length\n",
        "print(len(se))"
      ],
      "metadata": {
        "id": "xEuPNFJ9AZrV"
      },
      "execution_count": null,
      "outputs": []
    },
    {
      "cell_type": "code",
      "source": [
        "#add\n",
        "se.add(9)\n",
        "se"
      ],
      "metadata": {
        "id": "flg7gJ5NAhBx"
      },
      "execution_count": null,
      "outputs": []
    },
    {
      "cell_type": "code",
      "source": [
        "se.update([5,6,7])\n",
        "se"
      ],
      "metadata": {
        "id": "QpZLZBcnAmBD"
      },
      "execution_count": null,
      "outputs": []
    },
    {
      "cell_type": "code",
      "source": [
        "se.remove(5)\n",
        "se"
      ],
      "metadata": {
        "id": "dPWlPq29BA6L"
      },
      "execution_count": null,
      "outputs": []
    },
    {
      "cell_type": "code",
      "source": [
        "#Boolean\n",
        "is_active = true\n",
        "\n",
        "#Inbuilt functions and operations for Boolean:\n",
        "print(int(is_active))   #Convert to integer (1 for True, 0 for False)"
      ],
      "metadata": {
        "id": "KUB-GDeUBM9S"
      },
      "execution_count": null,
      "outputs": []
    },
    {
      "cell_type": "code",
      "source": [
        "print(bool(0))      #Convert integer to boolean (False)"
      ],
      "metadata": {
        "id": "kpgb_pr4Bqu_"
      },
      "execution_count": null,
      "outputs": []
    },
    {
      "cell_type": "code",
      "source": [
        "print(bool(1))      #Convert integer to boolean (True)"
      ],
      "metadata": {
        "id": "w4LjV27iBzOz"
      },
      "execution_count": null,
      "outputs": []
    },
    {
      "cell_type": "code",
      "source": [
        "print(bool(\"Hello\"))    #Convert string to boolean (True)"
      ],
      "metadata": {
        "id": "SSBWESmJB7bw"
      },
      "execution_count": null,
      "outputs": []
    },
    {
      "cell_type": "code",
      "source": [
        "print(is_active and False)    #Logical AND"
      ],
      "metadata": {
        "id": "1aOh7OX-CHl3"
      },
      "execution_count": null,
      "outputs": []
    },
    {
      "cell_type": "code",
      "source": [
        "print(is_active or False)    #Logical OR"
      ],
      "metadata": {
        "id": "KnooCFDpCV17"
      },
      "execution_count": null,
      "outputs": []
    },
    {
      "cell_type": "code",
      "source": [
        "print(not is_active)    #Logical NOT"
      ],
      "metadata": {
        "id": "F6eehRkaCaKe"
      },
      "execution_count": null,
      "outputs": []
    },
    {
      "cell_type": "markdown",
      "source": [
        "**Conditionals**"
      ],
      "metadata": {
        "id": "qegjVOjCC-NU"
      }
    },
    {
      "cell_type": "code",
      "source": [
        "# Basic if-elif-else statement\n",
        "age = 20\n",
        "\n",
        "if age < 18:\n",
        "    print(\"You are a minor.\")\n",
        "elif age >= 18 and age < 65:\n",
        "    print(\"You are an adult.\")\n",
        "else:\n",
        "    print(\"You are a senior citizen.\")"
      ],
      "metadata": {
        "id": "qBYJZ9p2Cn3_"
      },
      "execution_count": null,
      "outputs": []
    },
    {
      "cell_type": "code",
      "source": [
        "# Checking Even or Odd Number\n",
        "number = 42\n",
        "\n",
        "if number % 2 == 0:\n",
        "    print(\"Even\")\n",
        "else:\n",
        "    print(\"Odd\")"
      ],
      "metadata": {
        "id": "sxhNmf91DfzD"
      },
      "execution_count": null,
      "outputs": []
    },
    {
      "cell_type": "code",
      "source": [
        "#Grade Evaluation\n",
        "score = 85\n",
        "\n",
        "if score >= 90:\n",
        "    grade = 'A'\n",
        "elif score >= 80:\n",
        "    grade = 'B'\n",
        "elif score >= 70:\n",
        "    grade = 'C'"
      ],
      "metadata": {
        "id": "eGXDCvngEKPn"
      },
      "execution_count": null,
      "outputs": []
    },
    {
      "cell_type": "markdown",
      "source": [
        "**Loops**"
      ],
      "metadata": {
        "id": "0JN5TkuKE-vQ"
      }
    },
    {
      "cell_type": "code",
      "source": [
        "# For loop\n",
        "for i in range(5):\n",
        "    print(i)"
      ],
      "metadata": {
        "colab": {
          "base_uri": "https://localhost:8080/"
        },
        "id": "2l3wfiFFEpC8",
        "outputId": "0754c14f-ed07-471d-d12d-4739bf00cc40"
      },
      "execution_count": 37,
      "outputs": [
        {
          "output_type": "stream",
          "name": "stdout",
          "text": [
            "0\n",
            "1\n",
            "2\n",
            "3\n",
            "4\n"
          ]
        }
      ]
    },
    {
      "cell_type": "code",
      "source": [
        "#Iterating over a list\n",
        "fruits = [\"apple\", \"banana\", \"cherry\"]\n",
        "for fruit in fruits:\n",
        "    print(fruit)"
      ],
      "metadata": {
        "id": "hWUzbbulFnfA"
      },
      "execution_count": null,
      "outputs": []
    },
    {
      "cell_type": "code",
      "source": [
        "#Iterating over a string\n",
        "greeting = \"Hello\"\n",
        "\n",
        "for char in greeting:\n",
        "  print(char)"
      ],
      "metadata": {
        "colab": {
          "base_uri": "https://localhost:8080/"
        },
        "id": "ScdsPN6MF9bT",
        "outputId": "0a230a66-d84e-4c4c-fa8b-9f65b3185d11"
      },
      "execution_count": 39,
      "outputs": [
        {
          "output_type": "stream",
          "name": "stdout",
          "text": [
            "H\n",
            "e\n",
            "l\n",
            "l\n",
            "o\n"
          ]
        }
      ]
    },
    {
      "cell_type": "code",
      "source": [
        "#Iterating over a dictionary\n",
        "person = {\"name\":\"John\",\"age\":30,\"city\":\"New-York\"}\n",
        "\n",
        "for key, value in person.items():\n",
        "  print(f\"{key}: {value}\")"
      ],
      "metadata": {
        "colab": {
          "base_uri": "https://localhost:8080/"
        },
        "id": "W7Aj1odnGQl2",
        "outputId": "e4a876bc-9fe0-4df6-b9c8-11afd2837078"
      },
      "execution_count": 40,
      "outputs": [
        {
          "output_type": "stream",
          "name": "stdout",
          "text": [
            "name: John\n",
            "age: 30\n",
            "city: New-York\n"
          ]
        }
      ]
    },
    {
      "cell_type": "code",
      "source": [
        "#Using the `range()` function with a step\n",
        "for i in range(0,10,2):\n",
        "  print(i)"
      ],
      "metadata": {
        "colab": {
          "base_uri": "https://localhost:8080/"
        },
        "id": "C5Dc7bsIG8fG",
        "outputId": "28bd9cef-4c75-4ea5-c776-52a366b3a064"
      },
      "execution_count": 41,
      "outputs": [
        {
          "output_type": "stream",
          "name": "stdout",
          "text": [
            "0\n",
            "2\n",
            "4\n",
            "6\n",
            "8\n"
          ]
        }
      ]
    },
    {
      "cell_type": "code",
      "source": [
        "#Nested for Loop\n",
        "for i in range(3):\n",
        "  for j in range(2):\n",
        "    print(f\"i = {i}, j = {j}\")"
      ],
      "metadata": {
        "colab": {
          "base_uri": "https://localhost:8080/"
        },
        "id": "Mvb3LLilHJ3o",
        "outputId": "679444a9-6d4f-4965-8318-e9c5ddebbd7a"
      },
      "execution_count": 42,
      "outputs": [
        {
          "output_type": "stream",
          "name": "stdout",
          "text": [
            "i = 0, j = 0\n",
            "i = 0, j = 1\n",
            "i = 1, j = 0\n",
            "i = 1, j = 1\n",
            "i = 2, j = 0\n",
            "i = 2, j = 1\n"
          ]
        }
      ]
    },
    {
      "cell_type": "code",
      "source": [
        "#Using the enumerate() function\n",
        "fruits = [\"apple\", \"banana\", \"cherry\"]\n",
        "\n",
        "for i, fruit in enumerate(fruits):\n",
        "  print(f\"Index: {i}, Fruit: {fruit}\")"
      ],
      "metadata": {
        "colab": {
          "base_uri": "https://localhost:8080/"
        },
        "id": "kHrFqmaHHW4U",
        "outputId": "9beffc7f-313d-442c-8ef5-a8eb8251ede4"
      },
      "execution_count": 43,
      "outputs": [
        {
          "output_type": "stream",
          "name": "stdout",
          "text": [
            "Index: 0, Fruit: apple\n",
            "Index: 1, Fruit: banana\n",
            "Index: 2, Fruit: cherry\n"
          ]
        }
      ]
    },
    {
      "cell_type": "code",
      "source": [
        "#While Loop\n",
        "count = 0\n",
        "while count < 5:\n",
        "  print(count)\n",
        "  count += 1"
      ],
      "metadata": {
        "colab": {
          "base_uri": "https://localhost:8080/"
        },
        "id": "Wh1D7le0IFMd",
        "outputId": "3267a9f1-3d1f-4b53-cf09-7ce8a4e13eaf"
      },
      "execution_count": 44,
      "outputs": [
        {
          "output_type": "stream",
          "name": "stdout",
          "text": [
            "0\n",
            "1\n",
            "2\n",
            "3\n",
            "4\n"
          ]
        }
      ]
    },
    {
      "cell_type": "code",
      "source": [
        "#While loop with break\n",
        "count = 0\n",
        "while True:\n",
        "  print(count)\n",
        "  count += 1\n",
        "  if count >= 5:\n",
        "    break"
      ],
      "metadata": {
        "colab": {
          "base_uri": "https://localhost:8080/"
        },
        "id": "WCbQlawHIx3k",
        "outputId": "3e79ec9a-7062-4018-f066-6dc07a8dd6bb"
      },
      "execution_count": 45,
      "outputs": [
        {
          "output_type": "stream",
          "name": "stdout",
          "text": [
            "0\n",
            "1\n",
            "2\n",
            "3\n",
            "4\n"
          ]
        }
      ]
    },
    {
      "cell_type": "code",
      "source": [
        "#While Loop with continue\n",
        "count = 0\n",
        "while count < 10:\n",
        "  count += 1\n",
        "  if count % 2 == 0:\n",
        "    continue\n",
        "  print(count)"
      ],
      "metadata": {
        "colab": {
          "base_uri": "https://localhost:8080/"
        },
        "id": "U4a_LkkZJF7x",
        "outputId": "d713f040-56ba-4400-f1bb-ce72700b98a4"
      },
      "execution_count": 46,
      "outputs": [
        {
          "output_type": "stream",
          "name": "stdout",
          "text": [
            "1\n",
            "3\n",
            "5\n",
            "7\n",
            "9\n"
          ]
        }
      ]
    },
    {
      "cell_type": "code",
      "source": [
        "#Using a while loop for Validation\n",
        "password = \"\"\n",
        "while len(password) < 8:\n",
        "  password = input(\"Enter a password: \")\n",
        "  if len(password) < 8:\n",
        "    print(\"Password must be at least 8 characters long.\")\n",
        "print(\"Password Accepted\")"
      ],
      "metadata": {
        "colab": {
          "base_uri": "https://localhost:8080/"
        },
        "id": "KrjoOfIeJh4r",
        "outputId": "b68987b6-58a0-4687-86be-38c1f5eb5111"
      },
      "execution_count": 47,
      "outputs": [
        {
          "output_type": "stream",
          "name": "stdout",
          "text": [
            "Enter a password: 1234567890\n",
            "Password Accepted\n"
          ]
        }
      ]
    },
    {
      "cell_type": "code",
      "source": [],
      "metadata": {
        "id": "nJ4n2X-AKytD"
      },
      "execution_count": null,
      "outputs": []
    }
  ]
}